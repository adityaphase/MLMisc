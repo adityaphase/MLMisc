{
 "cells": [
  {
   "cell_type": "code",
   "execution_count": 550,
   "metadata": {},
   "outputs": [],
   "source": [
    "import torch\n",
    "import pandas as pd\n",
    "import numpy as np\n",
    "import matplotlib.pyplot as plt\n",
    "from sklearn.model_selection import train_test_split\n",
    "from sklearn.model_selection import cross_val_score\n",
    "from sklearn import metrics"
   ]
  },
  {
   "cell_type": "code",
   "execution_count": 551,
   "metadata": {},
   "outputs": [
    {
     "name": "stdout",
     "output_type": "stream",
     "text": [
      "(35, 9) (15, 9) (35, 1) (15, 1)\n"
     ]
    }
   ],
   "source": [
    "data = \"/Users/livinundershadows/Desktop/Notebooks/top50.csv\"\n",
    "columns = [\"BPM\", \"Energy\", \"Danceability\", \"Loudness\", \"Liveness\", \"Valence\", \"Length\", \"Acousticness\", \"Speechiness\"]\n",
    "targetc = [\"Popularity\"]\n",
    "packet1 = pd.read_csv(data, encoding=\"ISO-8859-1\", usecols = columns)\n",
    "packet2 = pd.read_csv(data, encoding=\"ISO-8859-1\", usecols = targetc)\n",
    "\n",
    "x_train, x_test, y_train, y_test = train_test_split(packet1, packet2, test_size = 0.3)\n",
    "print(x_train.shape, x_test.shape, y_train.shape, y_test.shape)"
   ]
  },
  {
   "cell_type": "code",
   "execution_count": 552,
   "metadata": {},
   "outputs": [
    {
     "data": {
      "image/png": "[encoded data removed]",
      "text/plain": [
       "<Figure size 432x288 with 1 Axes>"
      ]
     },
     "metadata": {
      "needs_background": "light"
     },
     "output_type": "display_data"
    }
   ],
   "source": [
    "\n",
    "# lets try plotting data\n",
    "fig = plt.figure()\n",
    "ax1 = fig.add_subplot(111)\n",
    "ax1.scatter(x_train[\"BPM\"], y_train, label=\"BPM\")\n",
    "ax1.scatter(x_train[\"Energy\"], y_train, label=\"Energy\")\n",
    "plt.legend(loc='lower right');\n",
    "plt.ylabel(\"Popularity\")\n",
    "plt.show()\n"
   ]
  },
  {
   "cell_type": "code",
   "execution_count": 553,
   "metadata": {},
   "outputs": [
    {
     "name": "stdout",
     "output_type": "stream",
     "text": [
      "torch.Size([35, 9]) torch.Size([35, 1])\n"
     ]
    }
   ],
   "source": [
    "#some presets and data conversion\n",
    "# batch size = number of examples\n",
    "N, D_in, H, D_out = 35, 9, 200, 1\n",
    "\n",
    "x = x_train.to_numpy()\n",
    "y_temp = np.empty([35,1], dtype=float)\n",
    "for i in range(35):\n",
    "    y = y_train.to_numpy()\n",
    "    y = y / 100\n",
    "y_temp = y\n",
    "x = torch.tensor(x, dtype=torch.float)\n",
    "y = torch.tensor(y, dtype=torch.float)\n",
    "\n",
    "print(x.shape, y.shape)"
   ]
  },
  {
   "cell_type": "code",
   "execution_count": 554,
   "metadata": {},
   "outputs": [],
   "source": [
    "class baseline(torch.nn.Module):\n",
    "    def __init__(self, D_in, H, D_out):\n",
    "        super(baseline, self).__init__()\n",
    "        self.l1 = torch.nn.Linear(D_in, H)\n",
    "        self.l2 = torch.nn.Linear(H, D_out)\n",
    "    def forward(self, x):\n",
    "        x = self.l1(x)\n",
    "        x = torch.sigmoid(x)\n",
    "        y_pred = self.l2(x)\n",
    "        return y_pred\n",
    "    \n",
    "model = baseline(D_in, H, D_out)"
   ]
  },
  {
   "cell_type": "code",
   "execution_count": 555,
   "metadata": {},
   "outputs": [
    {
     "name": "stdout",
     "output_type": "stream",
     "text": [
      "1 10.78947925567627\n",
      "101 0.25577598810195923\n",
      "201 0.15009687840938568\n",
      "301 0.08254533261060715\n",
      "401 0.041672009974718094\n",
      "501 0.019843824207782745\n",
      "601 0.007225860375910997\n",
      "701 0.003973287530243397\n",
      "801 0.0022051711566746235\n",
      "901 0.0012277328642085195\n"
     ]
    }
   ],
   "source": [
    "criterion = torch.nn.MSELoss(reduction='sum') \n",
    "optimizer = torch.optim.Adam(model.parameters(), lr=1e-4)\n",
    "epochs = 1000\n",
    "#losses = np.empty([10], dtype=float) #implement a loss metric to plot the loss \n",
    "for t in range(epochs):\n",
    "    # Forward pass: Compute predicted y by passing x to the model\n",
    "    y_pred = model(x)\n",
    "\n",
    "    # Compute and print loss\n",
    "    loss = criterion(y_pred, y)\n",
    "    if t % 100 == 1:\n",
    "        print(t, loss.item())\n",
    "\n",
    "    # Zero gradients, perform a backward pass, and update the weights.\n",
    "    optimizer.zero_grad()\n",
    "    loss.backward()\n",
    "    optimizer.step()\n",
    "#print(losses)"
   ]
  },
  {
   "cell_type": "code",
   "execution_count": 556,
   "metadata": {},
   "outputs": [
    {
     "name": "stdout",
     "output_type": "stream",
     "text": [
      "torch.Size([35, 1])\n"
     ]
    },
    {
     "data": {
      "image/png": "[encoded data removed]",
      "text/plain": [
       "<Figure size 432x288 with 1 Axes>"
      ]
     },
     "metadata": {
      "needs_background": "light"
     },
     "output_type": "display_data"
    }
   ],
   "source": [
    "print(y_pred.shape)\n",
    "y_pred1 = y_pred.detach().numpy()\n",
    "plt.scatter(y_temp, y_pred1)\n",
    "plt.xlabel(\"Predicted\")\n",
    "plt.ylabel(\"True Value\")\n",
    "plt.show()"
   ]
  },
  {
   "cell_type": "code",
   "execution_count": 557,
   "metadata": {},
   "outputs": [
    {
     "name": "stdout",
     "output_type": "stream",
     "text": [
      "Root Mean Squared Error: 0.004072545038762937\n"
     ]
    }
   ],
   "source": [
    "print('Root Mean Squared Error:', np.sqrt(metrics.mean_squared_error(y_temp, y_pred1)))"
   ]
  },
  {
   "cell_type": "code",
   "execution_count": 558,
   "metadata": {},
   "outputs": [
    {
     "name": "stdout",
     "output_type": "stream",
     "text": [
      "torch.Size([15, 9]) torch.Size([15, 1])\n"
     ]
    }
   ],
   "source": [
    "# lets test our model on a test dataset\n",
    "x_t = x_test.to_numpy()\n",
    "y_temp2 = np.empty([15,1], dtype=float)\n",
    "for i in range(15):\n",
    "    y_t = y_test.to_numpy()\n",
    "    y_t = y_t / 100\n",
    "    y_temp2 = y_t\n",
    "x_t = torch.tensor(x_t, dtype=torch.float)\n",
    "y_t = torch.tensor(y_t, dtype=torch.float)\n",
    "\n",
    "print(x_t.shape, y_t.shape)"
   ]
  },
  {
   "cell_type": "code",
   "execution_count": 559,
   "metadata": {},
   "outputs": [],
   "source": [
    "# testing the model\n",
    "y_p1 = model(x_t)\n",
    "y_p2 = y_p1.detach().numpy()"
   ]
  },
  {
   "cell_type": "code",
   "execution_count": 560,
   "metadata": {},
   "outputs": [],
   "source": [
    "y_t2 = y_t.detach().numpy()"
   ]
  },
  {
   "cell_type": "code",
   "execution_count": 561,
   "metadata": {},
   "outputs": [
    {
     "name": "stdout",
     "output_type": "stream",
     "text": [
      "Root Mean Squared Error: 0.0805937\n"
     ]
    }
   ],
   "source": [
    "print('Root Mean Squared Error:', np.sqrt(metrics.mean_squared_error(y_t2,y_p2)))"
   ]
  },
  {
   "cell_type": "code",
   "execution_count": null,
   "metadata": {},
   "outputs": [],
   "source": []
  }
 ],
 "metadata": {
  "kernelspec": {
   "display_name": "Python 3",
   "language": "python",
   "name": "python3"
  },
  "language_info": {
   "codemirror_mode": {
    "name": "ipython",
    "version": 3
   },
   "file_extension": ".py",
   "mimetype": "text/x-python",
   "name": "python",
   "nbconvert_exporter": "python",
   "pygments_lexer": "ipython3",
   "version": "3.7.4"
  }
 },
 "nbformat": 4,
 "nbformat_minor": 2
}
